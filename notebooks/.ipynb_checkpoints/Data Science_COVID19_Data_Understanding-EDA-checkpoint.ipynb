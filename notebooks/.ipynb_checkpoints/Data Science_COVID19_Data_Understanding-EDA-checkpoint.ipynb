{
 "cells": [
  {
   "cell_type": "markdown",
   "metadata": {},
   "source": [
    "# Explorative Data Analysis"
   ]
  },
  {
   "cell_type": "markdown",
   "metadata": {},
   "source": [
    "1) Focus is often a visual representation of the data"
   ]
  },
  {
   "cell_type": "code",
   "execution_count": null,
   "metadata": {},
   "outputs": [],
   "source": [
    "import pandas as pd\n",
    "import numpy as np\n",
    "\n",
    "from datetime import datetime\n",
    "%matplotlib inline\n",
    "import matplotlib as mpl\n",
    "import matplotlib.pyplot as plt\n",
    "\n",
    "import seaborn as sns\n",
    "\n",
    "pd.set_option('display.max_rows', 500)\n"
   ]
  },
  {
   "cell_type": "code",
   "execution_count": null,
   "metadata": {},
   "outputs": [],
   "source": [
    "mpl.rcParams['figure.figsize'] = (16,9)\n",
    "pd.set_option('display.max_rows', 500)\n",
    "sns.set(style=\"darkgrid\")"
   ]
  },
  {
   "cell_type": "code",
   "execution_count": null,
   "metadata": {},
   "outputs": [],
   "source": [
    "df_plot=pd.read_csv('../data/processed/COVID_small_flat_table.csv',sep=';')\n",
    "df_plot.head()"
   ]
  },
  {
   "cell_type": "code",
   "execution_count": null,
   "metadata": {},
   "outputs": [],
   "source": [
    "plt.figure();\n",
    "ax=df_plot.iloc[15:,:].set_index('date').plot()\n",
    "plt.ylim(10, 30000)\n",
    "ax.set_yscale('log')"
   ]
  },
  {
   "cell_type": "markdown",
   "metadata": {},
   "source": [
    "# Plot.ly"
   ]
  },
  {
   "cell_type": "code",
   "execution_count": 35,
   "metadata": {},
   "outputs": [],
   "source": [
    "import plotly.graph_objects as go\n"
   ]
  },
  {
   "cell_type": "code",
   "execution_count": 36,
   "metadata": {},
   "outputs": [
    {
     "data": {
      "text/plain": [
       "'4.9.0'"
      ]
     },
     "execution_count": 36,
     "metadata": {},
     "output_type": "execute_result"
    }
   ],
   "source": [
    "import plotly\n",
    "plotly.__version__"
   ]
  },
  {
   "cell_type": "code",
   "execution_count": null,
   "metadata": {},
   "outputs": [],
   "source": [
    "country_list=['Italy',\n",
    "              'US',\n",
    "              'Spain',\n",
    "              'Germany',\n",
    "              'Korea, South',\n",
    "             ]"
   ]
  },
  {
   "cell_type": "code",
   "execution_count": null,
   "metadata": {},
   "outputs": [],
   "source": [
    "fig = go.Figure()\n",
    "for each in country_list:\n",
    "    fig.add_trace(go.Scatter(x=df_plot.date,\n",
    "                                y=df_plot[each],\n",
    "                               mode='markers+lines',\n",
    "                             opacity=0.9,\n",
    "                                line_width=2,\n",
    "                                marker_size=4, \n",
    "                                name=each\n",
    "                            )\n",
    "             )\n",
    "\n",
    "fig.update_layout(\n",
    "    width=900,\n",
    "    height=600,\n",
    "     xaxis_title=\"Time\",\n",
    "    yaxis_title=\"Confirmed infected people (source johns hopkins csse, log-scale)\",\n",
    ")\n",
    "fig.update_yaxes(type=\"log\",range=[1.1,5.5])\n",
    "\n",
    "fig.update_layout(xaxis_rangeslider_visible=True)"
   ]
  },
  {
   "cell_type": "code",
   "execution_count": null,
   "metadata": {},
   "outputs": [],
   "source": [
    "import dash\n",
    "import dash_core_components as dcc\n",
    "import dash_html_components as html\n",
    "\n",
    "app = dash.Dash()\n",
    "app.layout = html.Div([\n",
    "    \n",
    "    html.Label('Multi-Select Country'),\n",
    "    dcc.Dropdown(\n",
    "        id='country_drop_down',\n",
    "        options=[\n",
    "            {'label': 'Italy', 'value': 'Italy'},\n",
    "            {'label': 'US', 'value': 'US'},\n",
    "            {'label': 'Spain', 'value': 'Spain'},\n",
    "            {'label': 'Germany', 'value': 'Germany'},\n",
    "            {'label': 'Korea, South', 'value': 'Korea, South'}\n",
    "        ],\n",
    "        value=['US', 'Germany'],\n",
    "        multi=True\n",
    "    ),   \n",
    "        \n",
    "    dcc.Graph(figure=fig, id='main_window_slope')\n",
    "])\n"
   ]
  },
  {
   "cell_type": "code",
   "execution_count": null,
   "metadata": {},
   "outputs": [],
   "source": [
    "from dash.dependencies import Input, Output\n",
    "@app.callback(\n",
    "    Output('main_window_slope', 'figure'),\n",
    "    [Input('country_drop_down', 'value')])\n",
    "def update_figure(country_list):\n",
    "    \n",
    "    traces = [] \n",
    "    for each in country_list:\n",
    "        traces.append(dict(x=df_plot.date,\n",
    "                                y=df_plot[each],\n",
    "                                mode='markers+lines',\n",
    "                                opacity=0.9,\n",
    "                                line_width=2,\n",
    "                                marker_size=4, \n",
    "                                name=each\n",
    "                        )\n",
    "                )\n",
    "    \n",
    "    return {\n",
    "            'data': traces,\n",
    "            'layout': {design}"
   ]
  },
  {
   "cell_type": "code",
   "execution_count": null,
   "metadata": {},
   "outputs": [],
   "source": [
    "app.run_server(debug=True, use_reloader=False)"
   ]
  },
  {
   "cell_type": "code",
   "execution_count": null,
   "metadata": {},
   "outputs": [],
   "source": []
  }
 ],
 "metadata": {
  "kernelspec": {
   "display_name": "Python 3",
   "language": "python",
   "name": "python3"
  },
  "language_info": {
   "codemirror_mode": {
    "name": "ipython",
    "version": 3
   },
   "file_extension": ".py",
   "mimetype": "text/x-python",
   "name": "python",
   "nbconvert_exporter": "python",
   "pygments_lexer": "ipython3",
   "version": "3.8.3"
  }
 },
 "nbformat": 4,
 "nbformat_minor": 4
}
